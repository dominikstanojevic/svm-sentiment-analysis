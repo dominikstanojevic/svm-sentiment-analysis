{
 "cells": [
  {
   "cell_type": "code",
   "execution_count": 1,
   "metadata": {
    "collapsed": false
   },
   "outputs": [],
   "source": [
    "import pandas as pd\n",
    "import os\n",
    "labels = {'pos':1, 'neg':0}\n",
    "df = pd.DataFrame()\n",
    "for s in ('test', 'train'):\n",
    "    for l in ('pos', 'neg'):\n",
    "        path = r\"D:\\fer\\6. semestar\\ZAVRAD\\dataset\\aclImdb_v1.tar\\aclImdb_v1\\aclImdb\\%s\\%s\" % (s, l)\n",
    "        for file in os.listdir(path):\n",
    "            with open(os.path.join(path, file), 'r', encoding=\"utf-8\") as infile:\n",
    "                txt = infile.read()\n",
    "            df = df.append([[txt, labels[l]]], ignore_index=True)\n",
    "df.columns = ['review', 'sentiment']"
   ]
  },
  {
   "cell_type": "code",
   "execution_count": 2,
   "metadata": {
    "collapsed": false
   },
   "outputs": [],
   "source": [
    "import numpy as np\n",
    "df = df.reindex(np.random.permutation(df.index))\n",
    "df.to_csv('./movie_data.csv', index=False, encoding='utf-8')"
   ]
  },
  {
   "cell_type": "code",
   "execution_count": 1,
   "metadata": {
    "collapsed": true
   },
   "outputs": [],
   "source": [
    "from nltk.corpus import wordnet\n",
    "def get_wordnet_pos(treebank_tag):\n",
    "\n",
    "    if treebank_tag.startswith('J'):\n",
    "        return wordnet.ADJ\n",
    "    elif treebank_tag.startswith('V'):\n",
    "        return wordnet.VERB\n",
    "    elif treebank_tag.startswith('N'):\n",
    "        return wordnet.NOUN\n",
    "    elif treebank_tag.startswith('R'):\n",
    "        return wordnet.ADV\n",
    "    else:\n",
    "        return wordnet.NOUN\n",
    "\n",
    "import nltk\n",
    "\n",
    "from nltk.stem.wordnet import WordNetLemmatizer\n",
    "lemmatizer = WordNetLemmatizer()\n",
    "\n",
    "def lemmatize(tokens):\n",
    "    tags = nltk.pos_tag(tokens)\n",
    "    return [lemmatizer.lemmatize(word[0], get_wordnet_pos(word[1])) for word in tags]"
   ]
  },
  {
   "cell_type": "code",
   "execution_count": 3,
   "metadata": {
    "collapsed": true
   },
   "outputs": [],
   "source": [
    "import re\n",
    "import string\n",
    "negation_words = {'never', 'no', 'nothing', 'nowhere', 'noone', 'none', 'not', 'havent', 'hasnt', 'hadnt', 'cant',\n",
    "                  'couldnt', 'shouldnt', 'wont', 'wouldnt', 'dont', 'doesnt', 'didnt', 'isnt', 'arent', 'aint', 'n\\'t', \n",
    "                  \"haven't\", \"hasn't\", \"hadn't\", \"can't\", \"couldn't\", \"shouldn't\", \"won't\", \"wouldn't\", \"don't\", \"didn't\", \n",
    "                  \"isn't\", \"aren't\", \"ain't\", \"neither\", \"nor\"}\n",
    "\n",
    "negate_re = re.compile(r'(' + '|'.join(negation_words) + ')', re.VERBOSE | re.I | re.UNICODE)\n",
    "\n",
    "punctuation = set(string.punctuation)\n",
    "\n",
    "\n",
    "def negate(tokens):\n",
    "    words = list(tokens)\n",
    "    negate_mod = False\n",
    "    for i in range(len(words)):\n",
    "        word = words[i]\n",
    "        if negate_re.match(word):\n",
    "            negate_mod = True\n",
    "            continue\n",
    "        elif word in punctuation:\n",
    "            negate_mod = False\n",
    "            continue\n",
    "        if negate_mod:\n",
    "            words[i] = word + \"_NEG\"\n",
    "    return words"
   ]
  },
  {
   "cell_type": "code",
   "execution_count": 4,
   "metadata": {
    "collapsed": false
   },
   "outputs": [],
   "source": [
    "import pandas as pd\n",
    "import numpy as np\n",
    "\n",
    "df = pd.read_csv('./movie_data.csv', encoding='utf-8')\n",
    "\n",
    "end = 35000\n",
    "\n",
    "X_train = df.loc[:end, 'review'].values\n",
    "y_train = df.loc[:end, 'sentiment'].values\n",
    "X_test = df.loc[end:, 'review'].values\n",
    "y_test = df.loc[end:, 'sentiment'].values\n",
    "\n",
    "from nltk.corpus import stopwords\n",
    "stop = stopwords.words('english') + list(punctuation)\n",
    "\n",
    "from Tokenizer import Tokenizer\n",
    "Tok = Tokenizer(True, False, False)\n",
    "def tok(text):\n",
    "    tokens = Tok.tokenize(text)\n",
    "    words = lemmatize(tokens)\n",
    "    return negate(words)"
   ]
  },
  {
   "cell_type": "code",
   "execution_count": 5,
   "metadata": {
    "collapsed": false
   },
   "outputs": [],
   "source": [
    "from sklearn.feature_extraction.text import TfidfVectorizer\n",
    "v = TfidfVectorizer(tokenizer=tok, stop_words=stop, max_features=20000, ngram_range=(1,3))\n",
    "in_train = v.fit_transform(X_train).toarray()\n",
    "in_test = v.transform(X_test).toarray()"
   ]
  },
  {
   "cell_type": "code",
   "execution_count": 4,
   "metadata": {
    "collapsed": true
   },
   "outputs": [],
   "source": [
    "from sklearn.feature_extraction.text import CountVectorizer\n",
    "v = CountVectorizer(tokenizer=tok, stop_words=stop, max_features=20000, ngram_range=(1,3), binary=True)\n",
    "in_train = v.fit_transform(X_train).toarray()\n",
    "in_test = v.transform(X_test).toarray()"
   ]
  },
  {
   "cell_type": "code",
   "execution_count": 6,
   "metadata": {
    "collapsed": false
   },
   "outputs": [
    {
     "name": "stdout",
     "output_type": "stream",
     "text": [
      "0.903\n"
     ]
    }
   ],
   "source": [
    "from sklearn.svm import LinearSVC\n",
    "svm = LinearSVC()\n",
    "svm.fit(in_train, y_train)\n",
    "print(svm.score(in_test, y_test))"
   ]
  },
  {
   "cell_type": "code",
   "execution_count": null,
   "metadata": {
    "collapsed": false
   },
   "outputs": [],
   "source": [
    "import SVM\n",
    "svm = SVM.LinearSVM()\n",
    "svm.fit(in_train, y_train * 2 - 1)\n",
    "print(svm.score(in_test, y_test * 2 - 1))"
   ]
  },
  {
   "cell_type": "code",
   "execution_count": 9,
   "metadata": {
    "collapsed": false
   },
   "outputs": [
    {
     "data": {
      "text/plain": [
       "0.86845702339792541"
      ]
     },
     "execution_count": 9,
     "metadata": {},
     "output_type": "execute_result"
    }
   ],
   "source": [
    "from sklearn.metrics import f1_score\n",
    "f1_score(y_test * 2 - 1, svm.predict(in_test))"
   ]
  },
  {
   "cell_type": "code",
   "execution_count": 7,
   "metadata": {
    "collapsed": false
   },
   "outputs": [
    {
     "name": "stdout",
     "output_type": "stream",
     "text": [
      "[1]\n"
     ]
    }
   ],
   "source": [
    "file = open('test.txt', 'r')\n",
    "test = file.read()\n",
    "file.close()\n",
    "print(svm.predict(v.transform([test]).toarray()))"
   ]
  }
 ],
 "metadata": {
  "kernelspec": {
   "display_name": "Python 3",
   "language": "python",
   "name": "python3"
  },
  "language_info": {
   "codemirror_mode": {
    "name": "ipython",
    "version": 3
   },
   "file_extension": ".py",
   "mimetype": "text/x-python",
   "name": "python",
   "nbconvert_exporter": "python",
   "pygments_lexer": "ipython3",
   "version": "3.6.0"
  }
 },
 "nbformat": 4,
 "nbformat_minor": 2
}
