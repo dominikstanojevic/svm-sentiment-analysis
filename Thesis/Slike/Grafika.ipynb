{
 "cells": [
  {
   "cell_type": "code",
   "execution_count": 2,
   "metadata": {
    "collapsed": true
   },
   "outputs": [],
   "source": [
    "import numpy as np\n",
    "import matplotlib.pyplot as plt"
   ]
  },
  {
   "cell_type": "code",
   "execution_count": 60,
   "metadata": {
    "collapsed": false
   },
   "outputs": [
    {
     "data": {
      "image/png": "[encoded data removed]",
      "text/plain": [
       "<matplotlib.figure.Figure at 0x1fb147d6390>"
      ]
     },
     "metadata": {},
     "output_type": "display_data"
    }
   ],
   "source": [
    "np.random.seed(2)\n",
    "n = 10\n",
    "x1 = np.random.uniform(-5, 5, n)\n",
    "x2 = x1 + np.random.uniform(2, 4, n) * np.random.choice([-1, 1], n)\n",
    "colors = []\n",
    "for i in range(n):\n",
    "    colors.append('r' if x1[i] > x2[i] else 'b')\n",
    "plt.clf()\n",
    "plt.xlim(-5, 2), plt.ylim(-8, 3)\n",
    "plt.scatter(x2, x1, c=colors)\n",
    "plt.plot([-0.2], [-5], 'ro')\n",
    "plt.axis('scaled')\n",
    "plt.plot([-5, 2], [-6, 2])\n",
    "plt.plot([0, 0], [-6, 2], 'k')\n",
    "plt.show()\n",
    "#plt.savefig('outlier.pdf')"
   ]
  },
  {
   "cell_type": "code",
   "execution_count": null,
   "metadata": {
    "collapsed": true
   },
   "outputs": [],
   "source": []
  }
 ],
 "metadata": {
  "kernelspec": {
   "display_name": "Python 3",
   "language": "python",
   "name": "python3"
  },
  "language_info": {
   "codemirror_mode": {
    "name": "ipython",
    "version": 3
   },
   "file_extension": ".py",
   "mimetype": "text/x-python",
   "name": "python",
   "nbconvert_exporter": "python",
   "pygments_lexer": "ipython3",
   "version": "3.6.0"
  }
 },
 "nbformat": 4,
 "nbformat_minor": 2
}
