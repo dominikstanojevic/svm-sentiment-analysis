{
 "cells": [
  {
   "cell_type": "code",
   "execution_count": 2,
   "metadata": {
    "collapsed": true
   },
   "outputs": [],
   "source": [
    "import numpy as np\n",
    "import matplotlib.pyplot as plt"
   ]
  },
  {
   "cell_type": "code",
   "execution_count": 3,
   "metadata": {
    "collapsed": false
   },
   "outputs": [
    {
     "name": "stdout",
     "output_type": "stream",
     "text": [
      "[0, 0, 0, 1, 1, 1, 1, 0, 0, 0]\n"
     ]
    }
   ],
   "source": [
    "np.random.seed(2)\n",
    "n = 10\n",
    "x1 = np.random.uniform(-5, 5, n)\n",
    "x2 = x1 + np.random.uniform(2, 4, n) * np.random.choice([-1, 1], n)\n",
    "y = []\n",
    "colors = []\n",
    "for i in range(n):\n",
    "    colors.append('r' if x1[i] > x2[i] else 'b')\n",
    "    if x1[i] > x2[i]:\n",
    "        y.append(0)\n",
    "    else:\n",
    "        y.append(1)\n",
    "print(y)"
   ]
  },
  {
   "cell_type": "code",
   "execution_count": 42,
   "metadata": {
    "collapsed": false
   },
   "outputs": [],
   "source": [
    "plt.clf()\n",
    "plt.xlim(-5, 2), plt.ylim(-8, 3)\n",
    "plt.scatter(x2, x1, c=colors)\n",
    "plt.axis('scaled')\n",
    "plt.plot([-5, 2], [-11.19433011, 4.57531497])\n",
    "plt.plot([-5, 2], [-6.77427117384, 8.99546558026], c='k')\n",
    "plt.plot([-5, 10], [-15.6041871921, 18.1905676917], c='k')\n",
    "#plt.show()\n",
    "plt.savefig('support.pdf', bbox_inches='tight')"
   ]
  },
  {
   "cell_type": "code",
   "execution_count": 18,
   "metadata": {
    "collapsed": false
   },
   "outputs": [],
   "source": [
    "n_features = [100, 500, 1000, 2500, 5000, 10000, 15000, 20000]\n",
    "tfidf = [0.73444, 0.83364, 0.86092, 0.88272, 0.88588, 0.88964, 0.8932, 0.8944]\n",
    "bvec = [0.72532, 0.83132, 0.85664, 0.87316, 0.84644, 0.8566, 0.86228, 0.86644]\n",
    "fvec = [0.73324, 0.83312, 0.85816, 0.87436, 0.84312, 0.854, 0.86184, 0.86464]\n",
    "plt.plot(n_features, bvec, 'r-o', label='Binarna vektorizacija')\n",
    "plt.plot(n_features, fvec, 'g-o', label='Frekvencijska vektorizacija')\n",
    "plt.plot(n_features, tfidf, 'b-o', label='TF-IDF vektorizacija')\n",
    "plt.legend()\n",
    "plt.savefig('vec_model.pdf')\n",
    "plt.clf()"
   ]
  },
  {
   "cell_type": "code",
   "execution_count": 32,
   "metadata": {
    "collapsed": false
   },
   "outputs": [],
   "source": [
    "grams = ['(1, 1)', '(1, 2)', '(1, 3)', '(1, 4)', '(2, 2)', '(2, 3)', '(3, 3)']\n",
    "y_pos = np.arange(len(grams))\n",
    "results = [0.8944, 0.89892, 0.89908, 0.89884, 0.83892, 0.83464, 0.71508]\n",
    "\n",
    "rects = plt.bar(y_pos, results, align='center', alpha=0.5)\n",
    "plt.xticks(y_pos, grams)\n",
    "\n",
    "for i, rect in enumerate(rects):\n",
    "        height = rect.get_height()\n",
    "        plt.text(rect.get_x() + rect.get_width()/2., 1*height,\n",
    "                results[i],\n",
    "                ha='center', va='bottom')\n",
    "plt.savefig('grams.pdf')\n",
    "plt.clf()"
   ]
  },
  {
   "cell_type": "code",
   "execution_count": 33,
   "metadata": {
    "collapsed": false
   },
   "outputs": [
    {
     "name": "stdout",
     "output_type": "stream",
     "text": [
      "[-11.19513243]\n",
      "[ 4.57575318]\n",
      "-6.77480087383\n",
      "8.99608473861\n",
      "-15.6041871921\n",
      "18.1905676917\n",
      "[[-3.88231864 -0.64005098]\n",
      " [-7.79902187 -4.74073768]\n",
      " [-1.77253511  0.49662478]\n",
      " [ 2.38038017 -0.64677607]\n",
      " [ 1.57255775 -0.79632198]\n",
      " [ 1.87401851 -1.69665179]\n",
      " [ 0.75443693 -2.95351366]\n",
      " [-1.79576401  1.19270966]\n",
      " [-5.69657623 -2.00345326]\n",
      " [-4.4910182  -2.33172725]]\n"
     ]
    }
   ],
   "source": [
    "from sklearn.svm import LinearSVC\n",
    "svm = LinearSVC()\n",
    "\n",
    "train = np.vstack((x2, x1)).T\n",
    "svm.fit(train, y)\n",
    "\n",
    "w = svm.coef_\n",
    "b = svm.intercept_\n",
    "\n",
    "y1 = (- w[0, 0] / w[0, 1]) * -5 + (-b / w[0, 1])\n",
    "y2 = (- w[0, 0] / w[0, 1]) * 2 + (-b / w[0, 1])\n",
    "print(y1)\n",
    "print(y2)\n",
    "\n",
    "c1 = x1[2] - (- w[0, 0] / w[0, 1]) * x2[2]\n",
    "y1 = (- w[0, 0] / w[0, 1]) * -5 + c1\n",
    "y2 = (- w[0, 0] / w[0, 1]) * 2 + c1\n",
    "print(y1)\n",
    "print(y2)\n",
    "\n",
    "c1 = x1[4] - (- w[0, 0] / w[0, 1]) * x2[4]\n",
    "y1 = (- w[0, 0] / w[0, 1]) * -5 + c1\n",
    "y2 = (- w[0, 0] / w[0, 1]) * 10 + c1\n",
    "print(y1)\n",
    "print(y2) \n",
    "\n",
    "print(train)"
   ]
  },
  {
   "cell_type": "code",
   "execution_count": 3,
   "metadata": {
    "collapsed": false
   },
   "outputs": [],
   "source": [
    "np.random.seed(1)\n",
    "x1 = np.random.randn(100)\n",
    "x2 = np.random.randn(100)\n",
    "X = np.vstack((x1, x2)).T\n",
    "y = []\n",
    "h = .02\n",
    "\n",
    "for i in range(100):\n",
    "    d = X[i, 0] * X[i, 0] + X[i, 1] * X[i, 1]\n",
    "    if d <= 1:\n",
    "        y.append(0)\n",
    "    else:\n",
    "        y.append(1)\n",
    "\n",
    "from sklearn import svm\n",
    "linear = svm.LinearSVC().fit(X, y)\n",
    "radial = svm.SVC(kernel='rbf').fit(X, y)\n",
    "\n",
    "x_min, x_max = X[:, 0].min() - 1, X[:, 0].max() + 1\n",
    "y_min, y_max = X[:, 1].min() - 1, X[:, 1].max() + 1\n",
    "xx, yy = np.meshgrid(np.arange(x_min, x_max, h),\n",
    "                     np.arange(y_min, y_max, h))\n",
    "\n",
    "titles = ['Linearna jezgra', 'Radijalna jezgra']\n",
    "\n",
    "for i, clf in enumerate((linear, radial)):\n",
    "    plt.subplot(1, 2, i + 1)\n",
    "    plt.subplots_adjust(wspace=0.4, hspace=0.4)\n",
    "    Z = clf.predict(np.c_[xx.ravel(), yy.ravel()])\n",
    "\n",
    "    # Put the result into a color plot\n",
    "    Z = Z.reshape(xx.shape)\n",
    "    plt.contourf(xx, yy, Z, cmap=plt.cm.coolwarm, alpha=0.8)\n",
    "\n",
    "    # Plot also the training points\n",
    "    plt.scatter(X[:, 0], X[:, 1], c=y, cmap=plt.cm.coolwarm)\n",
    "    plt.xlim(xx.min(), xx.max())\n",
    "    plt.ylim(yy.min(), yy.max())\n",
    "    plt.xticks(())\n",
    "    plt.yticks(())\n",
    "    plt.title(titles[i])\n",
    "\n",
    "plt.savefig('kernel.pdf')"
   ]
  }
 ],
 "metadata": {
  "kernelspec": {
   "display_name": "Python 3",
   "language": "python",
   "name": "python3"
  },
  "language_info": {
   "codemirror_mode": {
    "name": "ipython",
    "version": 3
   },
   "file_extension": ".py",
   "mimetype": "text/x-python",
   "name": "python",
   "nbconvert_exporter": "python",
   "pygments_lexer": "ipython3",
   "version": "3.6.0"
  }
 },
 "nbformat": 4,
 "nbformat_minor": 2
}
